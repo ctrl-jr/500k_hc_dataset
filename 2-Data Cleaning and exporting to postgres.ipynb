{
 "cells": [
  {
   "cell_type": "markdown",
   "id": "0dcbfeac",
   "metadata": {},
   "source": [
    "Data Cleaning and EDA"
   ]
  },
  {
   "cell_type": "markdown",
   "id": "171b8ff0",
   "metadata": {},
   "source": [
    "De la exploracion inicial, vimos que hay que resolver varias cosas.\n",
    "\n",
    "1-Lidiar con los null de 'gender' y 'visit_type', usando MODE\n",
    "\n",
    "2-Usar la MEDIA cuando 'age' es inferior a 0\n",
    "\n",
    "3-Ponerle limite a 'cost_usd' \n",
    "\n",
    "4-Convertir 'visit_date' a datetime\n",
    "\n",
    "5-Estandarizar las especialidades"
   ]
  },
  {
   "cell_type": "code",
   "execution_count": 1,
   "id": "6a2ad548",
   "metadata": {},
   "outputs": [],
   "source": [
    "#importando librerias\n",
    "import pandas as pd\n",
    "import numpy as np\n",
    "import matplotlib.pyplot as plt\n",
    "import seaborn as sns\n",
    "from config import DATA_PATH, CLEAN_PATH"
   ]
  },
  {
   "cell_type": "code",
   "execution_count": 2,
   "id": "9aa9fb2d",
   "metadata": {},
   "outputs": [],
   "source": [
    "#Importando el dataset nuevamente y guardando una copia\n",
    "df_original = pd.read_csv(DATA_PATH)\n",
    "df =df_original.copy()"
   ]
  },
  {
   "cell_type": "code",
   "execution_count": 3,
   "id": "f4453f6e",
   "metadata": {},
   "outputs": [
    {
     "data": {
      "text/plain": [
       "np.int64(0)"
      ]
     },
     "execution_count": 3,
     "metadata": {},
     "output_type": "execute_result"
    }
   ],
   "source": [
    "#Validando que no tenemos data duplicada\n",
    "duplicate_rows = df.duplicated()\n",
    "num_duplicates = duplicate_rows.sum()\n",
    "num_duplicates"
   ]
  },
  {
   "cell_type": "markdown",
   "id": "fef202f3",
   "metadata": {},
   "source": [
    "Corregir los null de 'gender' y 'visit_type', usando MODE"
   ]
  },
  {
   "cell_type": "code",
   "execution_count": 3,
   "id": "47486f9b",
   "metadata": {},
   "outputs": [],
   "source": [
    "#1-Lidiar con los null de 'gender' y 'visit_type', usando MODE\n",
    "df = df.fillna({'gender': df['gender'].mode()[0]})\n",
    "df = df.fillna({'visit_type': df['visit_type'].mode()[0]})\n"
   ]
  },
  {
   "cell_type": "code",
   "execution_count": 5,
   "id": "dfbdcc8b",
   "metadata": {},
   "outputs": [
    {
     "data": {
      "text/plain": [
       "patient_id                    0\n",
       "age                           0\n",
       "gender                        0\n",
       "visit_date                    0\n",
       "specialty                     0\n",
       "diagnosis                     0\n",
       "procedure                     0\n",
       "doctor_id                     0\n",
       "hospital_id                   0\n",
       "city                          0\n",
       "country                       0\n",
       "visit_type                    0\n",
       "visit_duration_minutes        0\n",
       "outcome                       0\n",
       "readmission_within_30_days    0\n",
       "cost_usd                      0\n",
       "dtype: int64"
      ]
     },
     "execution_count": 5,
     "metadata": {},
     "output_type": "execute_result"
    }
   ],
   "source": [
    "#Luego de usar mode no nos quedan valores nulos\n",
    "df.isnull().sum()"
   ]
  },
  {
   "cell_type": "markdown",
   "id": "a86355f7",
   "metadata": {},
   "source": [
    "Reemplazando 'age' negativo con MEDIA"
   ]
  },
  {
   "cell_type": "code",
   "execution_count": 4,
   "id": "48003ac6",
   "metadata": {},
   "outputs": [
    {
     "name": "stdout",
     "output_type": "stream",
     "text": [
      "\n",
      "Age before:\n"
     ]
    },
    {
     "data": {
      "text/plain": [
       "count    500000.000000\n",
       "mean         59.410150\n",
       "std          40.445605\n",
       "min         -10.000000\n",
       "25%          24.000000\n",
       "50%          59.000000\n",
       "75%          94.000000\n",
       "max         129.000000\n",
       "Name: old_age, dtype: float64"
      ]
     },
     "metadata": {},
     "output_type": "display_data"
    },
    {
     "name": "stdout",
     "output_type": "stream",
     "text": [
      "\n",
      "Age after:\n"
     ]
    },
    {
     "data": {
      "text/plain": [
       "count    500000.000000\n",
       "mean         64.044984\n",
       "std          36.208515\n",
       "min           0.000000\n",
       "25%          34.000000\n",
       "50%          59.000000\n",
       "75%          94.000000\n",
       "max         129.000000\n",
       "Name: age, dtype: float64"
      ]
     },
     "metadata": {},
     "output_type": "display_data"
    }
   ],
   "source": [
    "#2-Los 'age' < 0 reemplazar por la media\n",
    "#Para comparar antes y despues usaremos la col. temporal 'old_age'\n",
    "df['old_age'] = df['age'].copy()\n",
    "\n",
    "median_age = df['age'].median()\n",
    "#Aplicando la media a los valores negativos\n",
    "df['age'] = df['age'].apply(lambda x: median_age if x < 0 else x)\n",
    "\n",
    "print(\"\\nAge before:\")\n",
    "display(df['old_age'].describe())\n",
    "print(\"\\nAge after:\")\n",
    "display(df['age'].describe())"
   ]
  },
  {
   "cell_type": "code",
   "execution_count": 14,
   "id": "c9f1ebc8",
   "metadata": {},
   "outputs": [
    {
     "data": {
      "image/png": "[encoded data removed]",
      "text/plain": [
       "<Figure size 800x400 with 1 Axes>"
      ]
     },
     "metadata": {},
     "output_type": "display_data"
    }
   ],
   "source": [
    "#Visualizando age antes y ahora\n",
    "plt.figure(figsize=(8, 4))\n",
    "sns.boxplot(data=df[['old_age', 'age']])\n",
    "plt.title('Age Before and After Cleaning')\n",
    "plt.ylabel('Age')\n",
    "plt.xticks([0, 1], ['Before', 'After'])\n",
    "plt.show()\n"
   ]
  },
  {
   "cell_type": "markdown",
   "id": "0439306f",
   "metadata": {},
   "source": [
    "Ponerle cap a 'cost_usd'"
   ]
  },
  {
   "cell_type": "code",
   "execution_count": 5,
   "id": "d07daf87",
   "metadata": {},
   "outputs": [
    {
     "data": {
      "text/plain": [
       "np.float64(2537.5975000000003)"
      ]
     },
     "metadata": {},
     "output_type": "display_data"
    },
    {
     "data": {
      "text/plain": [
       "np.float64(-2563.2312500000007)"
      ]
     },
     "metadata": {},
     "output_type": "display_data"
    },
    {
     "data": {
      "text/plain": [
       "np.float64(7587.1587500000005)"
      ]
     },
     "metadata": {},
     "output_type": "display_data"
    }
   ],
   "source": [
    "#3-Ponerle cap a 'cost_usd' usaremos el metodo IQR (Intequartile Range)\n",
    "#Calculo de IQR for 'cost_usd'\n",
    "Q1 = df['cost_usd'].quantile(0.25)\n",
    "Q3 = df['cost_usd'].quantile(0.75)\n",
    "IQR = Q3 - Q1\n",
    "display(IQR)\n",
    "\n",
    "#Definiendo los limites\n",
    "lower_bound = Q1 - 1.5 * IQR\n",
    "upper_bound = Q3 + 1.5 * IQR\n",
    "display(lower_bound)\n",
    "display(upper_bound)\n",
    "\n",
    "#Aplicando los limites y creando nuevo dataframe -> df_cleaned\n",
    "df_cleaned = df.copy()\n",
    "df_cleaned['cost_usd'] = df_cleaned['cost_usd'].clip(lower=lower_bound, upper=upper_bound)\n"
   ]
  },
  {
   "cell_type": "code",
   "execution_count": null,
   "id": "9c847280",
   "metadata": {},
   "outputs": [
    {
     "data": {
      "image/png": "[encoded data removed]",
      "text/plain": [
       "<Figure size 800x500 with 2 Axes>"
      ]
     },
     "metadata": {},
     "output_type": "display_data"
    }
   ],
   "source": [
    "#Para comparar veremos un histogram de 'cost_usd\" antes de y luego de aplicar los limites\n",
    "fig, axes = plt.subplots(nrows=1, ncols=2, figsize=(8, 5))\n",
    "\n",
    "#Antes (con los outliers)\n",
    "axes[0].hist(df['cost_usd'], bins=30, edgecolor='black')\n",
    "axes[0].set_title('Before')\n",
    "axes[0].set_xlabel('Cost USD')\n",
    "axes[0].set_ylabel('Frequency')\n",
    "\n",
    "#Despues (sin los outliers)\n",
    "axes[1].hist(df_cleaned['cost_usd'], bins=30, edgecolor='black', color='green')\n",
    "axes[1].set_title('After')\n",
    "axes[1].set_xlabel('Cost USD')\n",
    "axes[1].set_ylabel('Frequency')\n",
    "\n",
    "plt.tight_layout()\n",
    "plt.show()"
   ]
  },
  {
   "cell_type": "markdown",
   "id": "47c87316",
   "metadata": {},
   "source": [
    "Corregir formato de 'visit_date' a datetime"
   ]
  },
  {
   "cell_type": "code",
   "execution_count": 6,
   "id": "265b05fd",
   "metadata": {},
   "outputs": [
    {
     "name": "stdout",
     "output_type": "stream",
     "text": [
      "<class 'pandas.core.series.Series'>\n",
      "RangeIndex: 500000 entries, 0 to 499999\n",
      "Series name: visit_date\n",
      "Non-Null Count   Dtype         \n",
      "--------------   -----         \n",
      "500000 non-null  datetime64[ns]\n",
      "dtypes: datetime64[ns](1)\n",
      "memory usage: 3.8 MB\n"
     ]
    }
   ],
   "source": [
    "#4-Convertir 'visit_date' a datetime \n",
    "df_cleaned['visit_date'] = pd.to_datetime(df_cleaned['visit_date'], errors='coerce')\n",
    "\n",
    "df_cleaned['visit_date'].info()"
   ]
  },
  {
   "cell_type": "markdown",
   "id": "7ae0a5fd",
   "metadata": {},
   "source": [
    "Normalizando los nombre de 'specialty'"
   ]
  },
  {
   "cell_type": "code",
   "execution_count": 12,
   "id": "a8699a44",
   "metadata": {},
   "outputs": [
    {
     "name": "stdout",
     "output_type": "stream",
     "text": [
      "14\n"
     ]
    },
    {
     "data": {
      "text/plain": [
       "specialty\n",
       "Pediatría           36019\n",
       "Ginecología         35897\n",
       "Cirujia             35890\n",
       "Urgencias           35821\n",
       "Pediatra            35726\n",
       "Ginecplogía         35718\n",
       "Medicina Interna    35680\n",
       "Neurología          35661\n",
       "Ortopedia           35661\n",
       "Cirugía             35635\n",
       "Dermatología        35627\n",
       "Oncología           35626\n",
       "Cardiolgia          35583\n",
       "Cardiología         35456\n",
       "Name: count, dtype: int64"
      ]
     },
     "execution_count": 12,
     "metadata": {},
     "output_type": "execute_result"
    }
   ],
   "source": [
    "#5-Validando los specialty names\n",
    "print(df_cleaned['specialty'].nunique())\n",
    "df_cleaned['specialty'].value_counts()\n"
   ]
  },
  {
   "cell_type": "code",
   "execution_count": 7,
   "id": "c837fc9a",
   "metadata": {},
   "outputs": [],
   "source": [
    "df_cleaned['specialty'] = df_cleaned['specialty'].replace({\n",
    "    'Cirujia': 'Cirugía',\n",
    "    'Cardiolgia': 'Cardiología',\n",
    "    'Ginecplogía': 'Ginecología',\n",
    "\t'Pediatra': 'Pediatría'\n",
    "})"
   ]
  },
  {
   "cell_type": "code",
   "execution_count": 14,
   "id": "f2e92ce9",
   "metadata": {},
   "outputs": [
    {
     "name": "stdout",
     "output_type": "stream",
     "text": [
      "10\n"
     ]
    },
    {
     "data": {
      "text/plain": [
       "specialty\n",
       "Pediatría           71745\n",
       "Ginecología         71615\n",
       "Cirugía             71525\n",
       "Cardiología         71039\n",
       "Urgencias           35821\n",
       "Medicina Interna    35680\n",
       "Ortopedia           35661\n",
       "Neurología          35661\n",
       "Dermatología        35627\n",
       "Oncología           35626\n",
       "Name: count, dtype: int64"
      ]
     },
     "execution_count": 14,
     "metadata": {},
     "output_type": "execute_result"
    }
   ],
   "source": [
    "#validando normalizacion \n",
    "print(df_cleaned['specialty'].nunique())\n",
    "df_cleaned['specialty'].value_counts()"
   ]
  },
  {
   "cell_type": "code",
   "execution_count": 15,
   "id": "1e23b3fa",
   "metadata": {},
   "outputs": [
    {
     "name": "stdout",
     "output_type": "stream",
     "text": [
      "(500000, 17)\n",
      "<class 'pandas.core.frame.DataFrame'>\n",
      "RangeIndex: 500000 entries, 0 to 499999\n",
      "Data columns (total 17 columns):\n",
      " #   Column                      Non-Null Count   Dtype         \n",
      "---  ------                      --------------   -----         \n",
      " 0   patient_id                  500000 non-null  object        \n",
      " 1   age                         500000 non-null  float64       \n",
      " 2   gender                      500000 non-null  object        \n",
      " 3   visit_date                  500000 non-null  datetime64[ns]\n",
      " 4   specialty                   500000 non-null  object        \n",
      " 5   diagnosis                   500000 non-null  object        \n",
      " 6   procedure                   500000 non-null  object        \n",
      " 7   doctor_id                   500000 non-null  object        \n",
      " 8   hospital_id                 500000 non-null  object        \n",
      " 9   city                        500000 non-null  object        \n",
      " 10  country                     500000 non-null  object        \n",
      " 11  visit_type                  500000 non-null  object        \n",
      " 12  visit_duration_minutes      500000 non-null  int64         \n",
      " 13  outcome                     500000 non-null  object        \n",
      " 14  readmission_within_30_days  500000 non-null  int64         \n",
      " 15  cost_usd                    500000 non-null  float64       \n",
      " 16  old_age                     500000 non-null  float64       \n",
      "dtypes: datetime64[ns](1), float64(3), int64(2), object(11)\n",
      "memory usage: 64.8+ MB\n",
      "None\n"
     ]
    }
   ],
   "source": [
    "#Verificacion del dataset (df_cleaned)\n",
    "print(df_cleaned.shape)\n",
    "print(df_cleaned.info())\n"
   ]
  },
  {
   "cell_type": "code",
   "execution_count": 8,
   "id": "234c1d36",
   "metadata": {},
   "outputs": [],
   "source": [
    "#Eliminando columna temporal 'old_age' \n",
    "df_cleaned = df_cleaned.drop('old_age', axis=1)"
   ]
  },
  {
   "cell_type": "code",
   "execution_count": 17,
   "id": "36d89c39",
   "metadata": {},
   "outputs": [
    {
     "data": {
      "application/vnd.microsoft.datawrangler.viewer.v0+json": {
       "columns": [
        {
         "name": "index",
         "rawType": "int64",
         "type": "integer"
        },
        {
         "name": "patient_id",
         "rawType": "object",
         "type": "string"
        },
        {
         "name": "age",
         "rawType": "float64",
         "type": "float"
        },
        {
         "name": "gender",
         "rawType": "object",
         "type": "string"
        },
        {
         "name": "visit_date",
         "rawType": "datetime64[ns]",
         "type": "datetime"
        },
        {
         "name": "specialty",
         "rawType": "object",
         "type": "string"
        },
        {
         "name": "diagnosis",
         "rawType": "object",
         "type": "string"
        },
        {
         "name": "procedure",
         "rawType": "object",
         "type": "string"
        },
        {
         "name": "doctor_id",
         "rawType": "object",
         "type": "string"
        },
        {
         "name": "hospital_id",
         "rawType": "object",
         "type": "string"
        },
        {
         "name": "city",
         "rawType": "object",
         "type": "string"
        },
        {
         "name": "country",
         "rawType": "object",
         "type": "string"
        },
        {
         "name": "visit_type",
         "rawType": "object",
         "type": "string"
        },
        {
         "name": "visit_duration_minutes",
         "rawType": "int64",
         "type": "integer"
        },
        {
         "name": "outcome",
         "rawType": "object",
         "type": "string"
        },
        {
         "name": "readmission_within_30_days",
         "rawType": "int64",
         "type": "integer"
        },
        {
         "name": "cost_usd",
         "rawType": "float64",
         "type": "float"
        }
       ],
       "conversionMethod": "pd.DataFrame",
       "ref": "e683b05c-ba18-475e-a8fc-c9c5fdc679e4",
       "rows": [
        [
         "0",
         "bdd640fb-0667-4ad1-9c80-317fa3b1799d",
         "92.0",
         "M",
         "2023-03-11 00:00:00",
         "Pediatría",
         "Sunt cum.",
         "Consequatur.",
         "d8473694-cda8-4947-88dd-38b5c72bcefe",
         "0fd45397-be87-48cf-94b4-180186eac1d4",
         "Santiago",
         "Argentina",
         "Consulta",
         "486",
         "Reingreso",
         "0",
         "3851.0"
        ],
        [
         "1",
         "23b8c1e9-3924-46de-beb1-3b9046685257",
         "82.0",
         "M",
         "2020-08-14 00:00:00",
         "Dermatología",
         "Temporibus dolor.",
         "Qui eligendi.",
         "9d7a5834-e676-46fb-bd68-9951582578e4",
         "94fae0f0-5bb7-4234-b00e-ce3557f2026f",
         "Bogotá",
         "Argentina",
         "Hospitalización",
         "572",
         "Fallecimiento",
         "1",
         "2959.96"
        ],
        [
         "2",
         "bd9c66b3-ad3c-4d6d-9a3d-1fa7bc8960a9",
         "4.0",
         "M",
         "2023-01-03 00:00:00",
         "Cardiología",
         "Porro optio facere.",
         "Fugiat pariatur.",
         "09c54acd-f0ad-4a23-a5e2-d34d414d62bd",
         "2fdd830b-52c8-45f5-b383-230c17dd7c22",
         "Ciudad de México",
         "Chile",
         "Emergencia",
         "101",
         "Fallecimiento",
         "0",
         "3632.33"
        ],
        [
         "3",
         "972a8469-1641-4f82-8b9d-2434e465e150",
         "96.0",
         "F",
         "2020-06-15 00:00:00",
         "Cirugía",
         "Necessitatibus tempora eum.",
         "Eaque.",
         "bf5f0e16-c161-488e-ae99-8ecf7fb825dc",
         "3697c736-77c4-4cc4-a6ae-b696bc49d111",
         "Santiago",
         "Ecuador",
         "Emergencia",
         "589",
         "Alta",
         "0",
         "85.57"
        ],
        [
         "4",
         "17fc695a-07a0-4a6e-8822-e8f36c031199",
         "61.0",
         "M",
         "2021-11-05 00:00:00",
         "Dermatología",
         "Quam in.",
         "Cupiditate ullam.",
         "d1a80cba-621f-478a-9576-d97aa95c27b4",
         "a89ff296-918d-474f-a697-a6e17330e3ce",
         "Lima",
         "Chile",
         "Consulta",
         "8",
         "Fallecimiento",
         "0",
         "2603.25"
        ]
       ],
       "shape": {
        "columns": 16,
        "rows": 5
       }
      },
      "text/html": [
       "<div>\n",
       "<style scoped>\n",
       "    .dataframe tbody tr th:only-of-type {\n",
       "        vertical-align: middle;\n",
       "    }\n",
       "\n",
       "    .dataframe tbody tr th {\n",
       "        vertical-align: top;\n",
       "    }\n",
       "\n",
       "    .dataframe thead th {\n",
       "        text-align: right;\n",
       "    }\n",
       "</style>\n",
       "<table border=\"1\" class=\"dataframe\">\n",
       "  <thead>\n",
       "    <tr style=\"text-align: right;\">\n",
       "      <th></th>\n",
       "      <th>patient_id</th>\n",
       "      <th>age</th>\n",
       "      <th>gender</th>\n",
       "      <th>visit_date</th>\n",
       "      <th>specialty</th>\n",
       "      <th>diagnosis</th>\n",
       "      <th>procedure</th>\n",
       "      <th>doctor_id</th>\n",
       "      <th>hospital_id</th>\n",
       "      <th>city</th>\n",
       "      <th>country</th>\n",
       "      <th>visit_type</th>\n",
       "      <th>visit_duration_minutes</th>\n",
       "      <th>outcome</th>\n",
       "      <th>readmission_within_30_days</th>\n",
       "      <th>cost_usd</th>\n",
       "    </tr>\n",
       "  </thead>\n",
       "  <tbody>\n",
       "    <tr>\n",
       "      <th>0</th>\n",
       "      <td>bdd640fb-0667-4ad1-9c80-317fa3b1799d</td>\n",
       "      <td>92.0</td>\n",
       "      <td>M</td>\n",
       "      <td>2023-03-11</td>\n",
       "      <td>Pediatría</td>\n",
       "      <td>Sunt cum.</td>\n",
       "      <td>Consequatur.</td>\n",
       "      <td>d8473694-cda8-4947-88dd-38b5c72bcefe</td>\n",
       "      <td>0fd45397-be87-48cf-94b4-180186eac1d4</td>\n",
       "      <td>Santiago</td>\n",
       "      <td>Argentina</td>\n",
       "      <td>Consulta</td>\n",
       "      <td>486</td>\n",
       "      <td>Reingreso</td>\n",
       "      <td>0</td>\n",
       "      <td>3851.00</td>\n",
       "    </tr>\n",
       "    <tr>\n",
       "      <th>1</th>\n",
       "      <td>23b8c1e9-3924-46de-beb1-3b9046685257</td>\n",
       "      <td>82.0</td>\n",
       "      <td>M</td>\n",
       "      <td>2020-08-14</td>\n",
       "      <td>Dermatología</td>\n",
       "      <td>Temporibus dolor.</td>\n",
       "      <td>Qui eligendi.</td>\n",
       "      <td>9d7a5834-e676-46fb-bd68-9951582578e4</td>\n",
       "      <td>94fae0f0-5bb7-4234-b00e-ce3557f2026f</td>\n",
       "      <td>Bogotá</td>\n",
       "      <td>Argentina</td>\n",
       "      <td>Hospitalización</td>\n",
       "      <td>572</td>\n",
       "      <td>Fallecimiento</td>\n",
       "      <td>1</td>\n",
       "      <td>2959.96</td>\n",
       "    </tr>\n",
       "    <tr>\n",
       "      <th>2</th>\n",
       "      <td>bd9c66b3-ad3c-4d6d-9a3d-1fa7bc8960a9</td>\n",
       "      <td>4.0</td>\n",
       "      <td>M</td>\n",
       "      <td>2023-01-03</td>\n",
       "      <td>Cardiología</td>\n",
       "      <td>Porro optio facere.</td>\n",
       "      <td>Fugiat pariatur.</td>\n",
       "      <td>09c54acd-f0ad-4a23-a5e2-d34d414d62bd</td>\n",
       "      <td>2fdd830b-52c8-45f5-b383-230c17dd7c22</td>\n",
       "      <td>Ciudad de México</td>\n",
       "      <td>Chile</td>\n",
       "      <td>Emergencia</td>\n",
       "      <td>101</td>\n",
       "      <td>Fallecimiento</td>\n",
       "      <td>0</td>\n",
       "      <td>3632.33</td>\n",
       "    </tr>\n",
       "    <tr>\n",
       "      <th>3</th>\n",
       "      <td>972a8469-1641-4f82-8b9d-2434e465e150</td>\n",
       "      <td>96.0</td>\n",
       "      <td>F</td>\n",
       "      <td>2020-06-15</td>\n",
       "      <td>Cirugía</td>\n",
       "      <td>Necessitatibus tempora eum.</td>\n",
       "      <td>Eaque.</td>\n",
       "      <td>bf5f0e16-c161-488e-ae99-8ecf7fb825dc</td>\n",
       "      <td>3697c736-77c4-4cc4-a6ae-b696bc49d111</td>\n",
       "      <td>Santiago</td>\n",
       "      <td>Ecuador</td>\n",
       "      <td>Emergencia</td>\n",
       "      <td>589</td>\n",
       "      <td>Alta</td>\n",
       "      <td>0</td>\n",
       "      <td>85.57</td>\n",
       "    </tr>\n",
       "    <tr>\n",
       "      <th>4</th>\n",
       "      <td>17fc695a-07a0-4a6e-8822-e8f36c031199</td>\n",
       "      <td>61.0</td>\n",
       "      <td>M</td>\n",
       "      <td>2021-11-05</td>\n",
       "      <td>Dermatología</td>\n",
       "      <td>Quam in.</td>\n",
       "      <td>Cupiditate ullam.</td>\n",
       "      <td>d1a80cba-621f-478a-9576-d97aa95c27b4</td>\n",
       "      <td>a89ff296-918d-474f-a697-a6e17330e3ce</td>\n",
       "      <td>Lima</td>\n",
       "      <td>Chile</td>\n",
       "      <td>Consulta</td>\n",
       "      <td>8</td>\n",
       "      <td>Fallecimiento</td>\n",
       "      <td>0</td>\n",
       "      <td>2603.25</td>\n",
       "    </tr>\n",
       "  </tbody>\n",
       "</table>\n",
       "</div>"
      ],
      "text/plain": [
       "                             patient_id   age gender visit_date     specialty  \\\n",
       "0  bdd640fb-0667-4ad1-9c80-317fa3b1799d  92.0      M 2023-03-11     Pediatría   \n",
       "1  23b8c1e9-3924-46de-beb1-3b9046685257  82.0      M 2020-08-14  Dermatología   \n",
       "2  bd9c66b3-ad3c-4d6d-9a3d-1fa7bc8960a9   4.0      M 2023-01-03   Cardiología   \n",
       "3  972a8469-1641-4f82-8b9d-2434e465e150  96.0      F 2020-06-15       Cirugía   \n",
       "4  17fc695a-07a0-4a6e-8822-e8f36c031199  61.0      M 2021-11-05  Dermatología   \n",
       "\n",
       "                     diagnosis          procedure  \\\n",
       "0                    Sunt cum.       Consequatur.   \n",
       "1            Temporibus dolor.      Qui eligendi.   \n",
       "2          Porro optio facere.   Fugiat pariatur.   \n",
       "3  Necessitatibus tempora eum.             Eaque.   \n",
       "4                     Quam in.  Cupiditate ullam.   \n",
       "\n",
       "                              doctor_id                           hospital_id  \\\n",
       "0  d8473694-cda8-4947-88dd-38b5c72bcefe  0fd45397-be87-48cf-94b4-180186eac1d4   \n",
       "1  9d7a5834-e676-46fb-bd68-9951582578e4  94fae0f0-5bb7-4234-b00e-ce3557f2026f   \n",
       "2  09c54acd-f0ad-4a23-a5e2-d34d414d62bd  2fdd830b-52c8-45f5-b383-230c17dd7c22   \n",
       "3  bf5f0e16-c161-488e-ae99-8ecf7fb825dc  3697c736-77c4-4cc4-a6ae-b696bc49d111   \n",
       "4  d1a80cba-621f-478a-9576-d97aa95c27b4  a89ff296-918d-474f-a697-a6e17330e3ce   \n",
       "\n",
       "               city    country       visit_type  visit_duration_minutes  \\\n",
       "0          Santiago  Argentina         Consulta                     486   \n",
       "1            Bogotá  Argentina  Hospitalización                     572   \n",
       "2  Ciudad de México      Chile       Emergencia                     101   \n",
       "3          Santiago    Ecuador       Emergencia                     589   \n",
       "4              Lima      Chile         Consulta                       8   \n",
       "\n",
       "         outcome  readmission_within_30_days  cost_usd  \n",
       "0      Reingreso                           0   3851.00  \n",
       "1  Fallecimiento                           1   2959.96  \n",
       "2  Fallecimiento                           0   3632.33  \n",
       "3           Alta                           0     85.57  \n",
       "4  Fallecimiento                           0   2603.25  "
      ]
     },
     "metadata": {},
     "output_type": "display_data"
    }
   ],
   "source": [
    "display(df_cleaned.head())\n"
   ]
  },
  {
   "cell_type": "code",
   "execution_count": null,
   "id": "f109df1e",
   "metadata": {},
   "outputs": [
    {
     "data": {
      "text/html": [
       "<div>\n",
       "<style scoped>\n",
       "    .dataframe tbody tr th:only-of-type {\n",
       "        vertical-align: middle;\n",
       "    }\n",
       "\n",
       "    .dataframe tbody tr th {\n",
       "        vertical-align: top;\n",
       "    }\n",
       "\n",
       "    .dataframe thead th {\n",
       "        text-align: right;\n",
       "    }\n",
       "</style>\n",
       "<table border=\"1\" class=\"dataframe\">\n",
       "  <thead>\n",
       "    <tr style=\"text-align: right;\">\n",
       "      <th></th>\n",
       "      <th>patient_id</th>\n",
       "      <th>age</th>\n",
       "      <th>gender</th>\n",
       "      <th>visit_date</th>\n",
       "      <th>specialty</th>\n",
       "      <th>diagnosis</th>\n",
       "      <th>procedure</th>\n",
       "      <th>doctor_id</th>\n",
       "      <th>hospital_id</th>\n",
       "      <th>city</th>\n",
       "      <th>country</th>\n",
       "      <th>visit_type</th>\n",
       "      <th>visit_duration_minutes</th>\n",
       "      <th>outcome</th>\n",
       "      <th>readmission_within_30_days</th>\n",
       "      <th>cost_usd</th>\n",
       "    </tr>\n",
       "  </thead>\n",
       "  <tbody>\n",
       "    <tr>\n",
       "      <th>499995</th>\n",
       "      <td>431c9a3f-b06b-4b94-8dd5-838f2d6ac395</td>\n",
       "      <td>105.0</td>\n",
       "      <td>M</td>\n",
       "      <td>2021-08-08</td>\n",
       "      <td>Cirugía</td>\n",
       "      <td>Voluptatibus molestias ut.</td>\n",
       "      <td>Aperiam neque.</td>\n",
       "      <td>2632e35f-ead1-42d0-a76e-b09bbc591311</td>\n",
       "      <td>2b2367c6-198e-486e-92a4-c7b48591a4fc</td>\n",
       "      <td>Lima</td>\n",
       "      <td>México</td>\n",
       "      <td>Hospitalización</td>\n",
       "      <td>372</td>\n",
       "      <td>Fallecimiento</td>\n",
       "      <td>0</td>\n",
       "      <td>4962.68</td>\n",
       "    </tr>\n",
       "    <tr>\n",
       "      <th>499996</th>\n",
       "      <td>7f7b3b63-6448-41b6-b7b0-4e9edfee7331</td>\n",
       "      <td>35.0</td>\n",
       "      <td>F</td>\n",
       "      <td>2021-05-05</td>\n",
       "      <td>Urgencias</td>\n",
       "      <td>Ab possimus pariatur.</td>\n",
       "      <td>Error porro.</td>\n",
       "      <td>71a6b2bc-86ab-44e0-87ba-efdfdac2f8e2</td>\n",
       "      <td>d2ca8c71-daae-4438-a4b3-4ca4ffb01533</td>\n",
       "      <td>Buenos Aires</td>\n",
       "      <td>Ecuador</td>\n",
       "      <td>Emergencia</td>\n",
       "      <td>559</td>\n",
       "      <td>Reingreso</td>\n",
       "      <td>0</td>\n",
       "      <td>1799.49</td>\n",
       "    </tr>\n",
       "    <tr>\n",
       "      <th>499997</th>\n",
       "      <td>41679938-f4b6-48ab-baa7-011af1d90ba8</td>\n",
       "      <td>45.0</td>\n",
       "      <td>F</td>\n",
       "      <td>2024-01-28</td>\n",
       "      <td>Cirugía</td>\n",
       "      <td>Atque dicta.</td>\n",
       "      <td>Officiis.</td>\n",
       "      <td>5fb756df-a308-46f7-87bf-825841937973</td>\n",
       "      <td>b471a44d-55dd-4a36-b715-9b6fa0675278</td>\n",
       "      <td>Bogotá</td>\n",
       "      <td>Perú</td>\n",
       "      <td>Consulta</td>\n",
       "      <td>65</td>\n",
       "      <td>Referencia</td>\n",
       "      <td>0</td>\n",
       "      <td>4195.80</td>\n",
       "    </tr>\n",
       "    <tr>\n",
       "      <th>499998</th>\n",
       "      <td>6c299452-c15c-4dd6-9b35-9946dd9404a0</td>\n",
       "      <td>57.0</td>\n",
       "      <td>M</td>\n",
       "      <td>2021-05-15</td>\n",
       "      <td>Urgencias</td>\n",
       "      <td>Totam.</td>\n",
       "      <td>Eveniet.</td>\n",
       "      <td>b50bc8e8-c1a0-4cbd-a718-2b2b6f3ade9a</td>\n",
       "      <td>775544eb-a7e6-4335-98a7-04c2c5c60424</td>\n",
       "      <td>Santiago</td>\n",
       "      <td>Chile</td>\n",
       "      <td>Emergencia</td>\n",
       "      <td>379</td>\n",
       "      <td>Referencia</td>\n",
       "      <td>0</td>\n",
       "      <td>3474.76</td>\n",
       "    </tr>\n",
       "    <tr>\n",
       "      <th>499999</th>\n",
       "      <td>e8b237c0-9f41-49e9-b922-63f189d37e5e</td>\n",
       "      <td>15.0</td>\n",
       "      <td>M</td>\n",
       "      <td>2025-05-21</td>\n",
       "      <td>Pediatría</td>\n",
       "      <td>Sunt.</td>\n",
       "      <td>Omnis asperiores.</td>\n",
       "      <td>c3d7728c-526b-40e5-9392-09f64aed90e3</td>\n",
       "      <td>48b01eab-1fea-495e-ae34-623346eb4bd5</td>\n",
       "      <td>Santo Domingo</td>\n",
       "      <td>Ecuador</td>\n",
       "      <td>Emergencia</td>\n",
       "      <td>149</td>\n",
       "      <td>Alta</td>\n",
       "      <td>0</td>\n",
       "      <td>1022.39</td>\n",
       "    </tr>\n",
       "  </tbody>\n",
       "</table>\n",
       "</div>"
      ],
      "text/plain": [
       "                                  patient_id    age gender visit_date  \\\n",
       "499995  431c9a3f-b06b-4b94-8dd5-838f2d6ac395  105.0      M 2021-08-08   \n",
       "499996  7f7b3b63-6448-41b6-b7b0-4e9edfee7331   35.0      F 2021-05-05   \n",
       "499997  41679938-f4b6-48ab-baa7-011af1d90ba8   45.0      F 2024-01-28   \n",
       "499998  6c299452-c15c-4dd6-9b35-9946dd9404a0   57.0      M 2021-05-15   \n",
       "499999  e8b237c0-9f41-49e9-b922-63f189d37e5e   15.0      M 2025-05-21   \n",
       "\n",
       "        specialty                   diagnosis          procedure  \\\n",
       "499995    Cirugía  Voluptatibus molestias ut.     Aperiam neque.   \n",
       "499996  Urgencias       Ab possimus pariatur.       Error porro.   \n",
       "499997    Cirugía                Atque dicta.          Officiis.   \n",
       "499998  Urgencias                      Totam.           Eveniet.   \n",
       "499999  Pediatría                       Sunt.  Omnis asperiores.   \n",
       "\n",
       "                                   doctor_id  \\\n",
       "499995  2632e35f-ead1-42d0-a76e-b09bbc591311   \n",
       "499996  71a6b2bc-86ab-44e0-87ba-efdfdac2f8e2   \n",
       "499997  5fb756df-a308-46f7-87bf-825841937973   \n",
       "499998  b50bc8e8-c1a0-4cbd-a718-2b2b6f3ade9a   \n",
       "499999  c3d7728c-526b-40e5-9392-09f64aed90e3   \n",
       "\n",
       "                                 hospital_id           city  country  \\\n",
       "499995  2b2367c6-198e-486e-92a4-c7b48591a4fc           Lima   México   \n",
       "499996  d2ca8c71-daae-4438-a4b3-4ca4ffb01533   Buenos Aires  Ecuador   \n",
       "499997  b471a44d-55dd-4a36-b715-9b6fa0675278         Bogotá     Perú   \n",
       "499998  775544eb-a7e6-4335-98a7-04c2c5c60424       Santiago    Chile   \n",
       "499999  48b01eab-1fea-495e-ae34-623346eb4bd5  Santo Domingo  Ecuador   \n",
       "\n",
       "             visit_type  visit_duration_minutes        outcome  \\\n",
       "499995  Hospitalización                     372  Fallecimiento   \n",
       "499996       Emergencia                     559      Reingreso   \n",
       "499997         Consulta                      65     Referencia   \n",
       "499998       Emergencia                     379     Referencia   \n",
       "499999       Emergencia                     149           Alta   \n",
       "\n",
       "        readmission_within_30_days  cost_usd  \n",
       "499995                           0   4962.68  \n",
       "499996                           0   1799.49  \n",
       "499997                           0   4195.80  \n",
       "499998                           0   3474.76  \n",
       "499999                           0   1022.39  "
      ]
     },
     "metadata": {},
     "output_type": "display_data"
    }
   ],
   "source": [
    "display(df_cleaned.tail())"
   ]
  },
  {
   "cell_type": "markdown",
   "id": "574115c8",
   "metadata": {},
   "source": [
    "Visualizando la data tipo Numerical"
   ]
  },
  {
   "cell_type": "code",
   "execution_count": null,
   "id": "5b2abf0c",
   "metadata": {},
   "outputs": [
    {
     "data": {
      "image/png": "[encoded data removed]",
      "text/plain": [
       "<Figure size 1200x500 with 3 Axes>"
      ]
     },
     "metadata": {},
     "output_type": "display_data"
    },
    {
     "data": {
      "image/png": "[encoded data removed]",
      "text/plain": [
       "<Figure size 1200x500 with 3 Axes>"
      ]
     },
     "metadata": {},
     "output_type": "display_data"
    }
   ],
   "source": [
    "#Histograms (para ver la distribucion)\n",
    "plt.figure(figsize=(12, 5))\n",
    "plt.subplot(1, 3, 1)\n",
    "plt.hist(df_cleaned['age'], bins=20, color='skyblue', edgecolor='black')\n",
    "plt.title('Age Distribution')\n",
    "plt.xlabel('Age')\n",
    "plt.ylabel('Frequency')\n",
    "\n",
    "plt.subplot(1, 3, 2)\n",
    "plt.hist(df_cleaned['visit_duration_minutes'], bins=20, color='salmon', edgecolor='black')\n",
    "plt.title('Visit Duration Distribution')\n",
    "plt.xlabel('Visit Duration (minutes)')\n",
    "plt.ylabel('Frequency')\n",
    "\n",
    "plt.subplot(1, 3, 3)\n",
    "plt.hist(df_cleaned['cost_usd'], bins=30, color='lightgreen', edgecolor='black')\n",
    "plt.title('Cost Distribution')\n",
    "plt.xlabel('Cost (USD)')\n",
    "plt.ylabel('Frequency')\n",
    "\n",
    "plt.tight_layout()\n",
    "plt.show()\n",
    "\n",
    "#Box plots (para ver valores min-max y promedio)\n",
    "plt.figure(figsize=(12, 5))\n",
    "plt.subplot(1, 3, 1)\n",
    "sns.boxplot(x=df_cleaned['age'], color='skyblue')\n",
    "plt.title('Age Distribution')\n",
    "\n",
    "plt.subplot(1, 3, 2)\n",
    "sns.boxplot(x=df_cleaned['visit_duration_minutes'], color='salmon')\n",
    "plt.title('Visit Duration Distribution')\n",
    "\n",
    "plt.subplot(1, 3, 3)\n",
    "sns.boxplot(x=df_cleaned['cost_usd'], color='lightgreen')\n",
    "plt.title('Cost Distribution')\n",
    "\n",
    "plt.tight_layout()\n",
    "plt.show()\n"
   ]
  },
  {
   "cell_type": "markdown",
   "id": "ebe53d74",
   "metadata": {},
   "source": [
    "Visualizando la data tipo Categorical"
   ]
  },
  {
   "cell_type": "code",
   "execution_count": null,
   "id": "261e95df",
   "metadata": {},
   "outputs": [],
   "source": [
    "Piecharts gender, visit_type, outcome"
   ]
  },
  {
   "cell_type": "code",
   "execution_count": 59,
   "id": "daf344cf",
   "metadata": {},
   "outputs": [
    {
     "data": {
      "image/png": "[encoded data removed]",
      "text/plain": [
       "<Figure size 1500x500 with 2 Axes>"
      ]
     },
     "metadata": {},
     "output_type": "display_data"
    }
   ],
   "source": [
    "\n",
    "fig, axes = plt.subplots(1, 2, figsize=(15, 5))  # 1 row, 3 columns\n",
    "\n",
    "columns = ['gender', 'outcome']\n",
    "\n",
    "for i, col in enumerate(columns):\n",
    "    counts = df[col].value_counts()\n",
    "    axes[i].pie(\n",
    "        counts,\n",
    "        labels=counts.index,\n",
    "        autopct='%1.1f%%',\n",
    "        textprops={'fontsize': 13},\n",
    "        labeldistance=0.2,\n",
    "        startangle=90\n",
    "    )\n",
    "    axes[i].set_title(f'{col} Distribution', fontsize=12)\n",
    "    axes[i].axis('equal')  # Keep the pie round\n",
    "\n",
    "plt.tight_layout()\n",
    "plt.show()\n"
   ]
  },
  {
   "cell_type": "code",
   "execution_count": 73,
   "id": "d23c7bb8",
   "metadata": {},
   "outputs": [
    {
     "data": {
      "image/png": "[encoded data removed]",
      "text/plain": [
       "<Figure size 500x500 with 1 Axes>"
      ]
     },
     "metadata": {},
     "output_type": "display_data"
    }
   ],
   "source": [
    "# Count occurrences of each category\n",
    "counts = df['visit_type'].value_counts()\n",
    "labels = counts.index\n",
    "sizes = counts.values\n",
    "\n",
    "# Explode the most frequent visit_type\n",
    "import numpy as np\n",
    "max_index = np.argmin(sizes)\n",
    "\n",
    "explode = [0.1 if i == max_index else 0 for i in range(len(sizes))]\n",
    "\n",
    "# Plot\n",
    "plt.figure(figsize=(5, 5))\n",
    "plt.pie(\n",
    "    sizes,\n",
    "    labels=labels,\n",
    "    autopct='%1.1f%%',\n",
    "    explode=explode,\n",
    "    #textprops={'fontsize': 12},\n",
    "    labeldistance=1,\n",
    "    startangle=90\n",
    ")\n",
    "plt.title('Visit Type Distribution')\n",
    "plt.axis('equal')\n",
    "plt.show()"
   ]
  },
  {
   "cell_type": "code",
   "execution_count": 18,
   "id": "68a131c1",
   "metadata": {},
   "outputs": [
    {
     "data": {
      "text/plain": [
       "array(['Consequatur.', 'Qui eligendi.', 'Fugiat pariatur.', ...,\n",
       "       'Atque qui.', 'Est quidem.', 'Nostrum ea.'], dtype=object)"
      ]
     },
     "execution_count": 18,
     "metadata": {},
     "output_type": "execute_result"
    }
   ],
   "source": [
    "df_cleaned['procedure'].unique()"
   ]
  },
  {
   "cell_type": "code",
   "execution_count": 22,
   "id": "57d4a10e",
   "metadata": {},
   "outputs": [
    {
     "data": {
      "image/png": "[encoded data removed]",
      "text/plain": [
       "<Figure size 600x500 with 1 Axes>"
      ]
     },
     "metadata": {},
     "output_type": "display_data"
    },
    {
     "data": {
      "image/png": "[encoded data removed]",
      "text/plain": [
       "<Figure size 600x500 with 1 Axes>"
      ]
     },
     "metadata": {},
     "output_type": "display_data"
    },
    {
     "data": {
      "image/png": "[encoded data removed]",
      "text/plain": [
       "<Figure size 600x500 with 1 Axes>"
      ]
     },
     "metadata": {},
     "output_type": "display_data"
    },
    {
     "data": {
      "image/png": "[encoded data removed]",
      "text/plain": [
       "<Figure size 600x500 with 1 Axes>"
      ]
     },
     "metadata": {},
     "output_type": "display_data"
    }
   ],
   "source": [
    "categorical_features = ['specialty', 'city', 'country', 'outcome']\n",
    "\n",
    "for col in categorical_features:\n",
    "    plt.figure(figsize=(6, 5))\n",
    "\n",
    "    value_counts = df_cleaned[col].value_counts()\n",
    "\n",
    "    #Bar chart\n",
    "    ax = value_counts.plot(kind='bar', color='skyblue')\n",
    "    plt.title(f'Frequency Distribution of {col}')\n",
    "    plt.xlabel(col)\n",
    "    plt.ylabel('Frequency')\n",
    "    plt.xticks(rotation=45, ha='right')\n",
    "\n",
    "    #Labels numericos con comas\n",
    "    for i, count in enumerate(value_counts):\n",
    "        label = f\"{count:,}\"  \n",
    "        plt.text(i, count / 2, label, ha='center', va='center', color='black', fontsize=8, rotation=20)\n",
    "\n",
    "    plt.tight_layout()\n",
    "    plt.show()\n"
   ]
  },
  {
   "cell_type": "code",
   "execution_count": 9,
   "id": "466102e9",
   "metadata": {},
   "outputs": [
    {
     "data": {
      "application/vnd.microsoft.datawrangler.viewer.v0+json": {
       "columns": [
        {
         "name": "index",
         "rawType": "int64",
         "type": "integer"
        },
        {
         "name": "patient_id",
         "rawType": "object",
         "type": "string"
        },
        {
         "name": "age",
         "rawType": "float64",
         "type": "float"
        },
        {
         "name": "gender",
         "rawType": "object",
         "type": "string"
        },
        {
         "name": "visit_date",
         "rawType": "datetime64[ns]",
         "type": "datetime"
        },
        {
         "name": "specialty",
         "rawType": "object",
         "type": "string"
        },
        {
         "name": "diagnosis",
         "rawType": "object",
         "type": "string"
        },
        {
         "name": "procedure",
         "rawType": "object",
         "type": "string"
        },
        {
         "name": "doctor_id",
         "rawType": "object",
         "type": "string"
        },
        {
         "name": "hospital_id",
         "rawType": "object",
         "type": "string"
        },
        {
         "name": "city",
         "rawType": "object",
         "type": "string"
        },
        {
         "name": "country",
         "rawType": "object",
         "type": "string"
        },
        {
         "name": "visit_type",
         "rawType": "object",
         "type": "string"
        },
        {
         "name": "visit_duration_minutes",
         "rawType": "int64",
         "type": "integer"
        },
        {
         "name": "outcome",
         "rawType": "object",
         "type": "string"
        },
        {
         "name": "readmission_within_30_days",
         "rawType": "int64",
         "type": "integer"
        },
        {
         "name": "cost_usd",
         "rawType": "float64",
         "type": "float"
        }
       ],
       "conversionMethod": "pd.DataFrame",
       "ref": "306910bc-0448-4138-ad73-ca9c15087251",
       "rows": [
        [
         "0",
         "bdd640fb-0667-4ad1-9c80-317fa3b1799d",
         "92.0",
         "M",
         "2023-03-11 00:00:00",
         "Pediatría",
         "Sunt cum.",
         "Consequatur.",
         "d8473694-cda8-4947-88dd-38b5c72bcefe",
         "0fd45397-be87-48cf-94b4-180186eac1d4",
         "Santiago",
         "Argentina",
         "Consulta",
         "486",
         "Reingreso",
         "0",
         "3851.0"
        ],
        [
         "1",
         "23b8c1e9-3924-46de-beb1-3b9046685257",
         "82.0",
         "M",
         "2020-08-14 00:00:00",
         "Dermatología",
         "Temporibus dolor.",
         "Qui eligendi.",
         "9d7a5834-e676-46fb-bd68-9951582578e4",
         "94fae0f0-5bb7-4234-b00e-ce3557f2026f",
         "Bogotá",
         "Argentina",
         "Hospitalización",
         "572",
         "Fallecimiento",
         "1",
         "2959.96"
        ],
        [
         "2",
         "bd9c66b3-ad3c-4d6d-9a3d-1fa7bc8960a9",
         "4.0",
         "M",
         "2023-01-03 00:00:00",
         "Cardiología",
         "Porro optio facere.",
         "Fugiat pariatur.",
         "09c54acd-f0ad-4a23-a5e2-d34d414d62bd",
         "2fdd830b-52c8-45f5-b383-230c17dd7c22",
         "Ciudad de México",
         "Chile",
         "Emergencia",
         "101",
         "Fallecimiento",
         "0",
         "3632.33"
        ],
        [
         "3",
         "972a8469-1641-4f82-8b9d-2434e465e150",
         "96.0",
         "F",
         "2020-06-15 00:00:00",
         "Cirugía",
         "Necessitatibus tempora eum.",
         "Eaque.",
         "bf5f0e16-c161-488e-ae99-8ecf7fb825dc",
         "3697c736-77c4-4cc4-a6ae-b696bc49d111",
         "Santiago",
         "Ecuador",
         "Emergencia",
         "589",
         "Alta",
         "0",
         "85.57"
        ],
        [
         "4",
         "17fc695a-07a0-4a6e-8822-e8f36c031199",
         "61.0",
         "M",
         "2021-11-05 00:00:00",
         "Dermatología",
         "Quam in.",
         "Cupiditate ullam.",
         "d1a80cba-621f-478a-9576-d97aa95c27b4",
         "a89ff296-918d-474f-a697-a6e17330e3ce",
         "Lima",
         "Chile",
         "Consulta",
         "8",
         "Fallecimiento",
         "0",
         "2603.25"
        ]
       ],
       "shape": {
        "columns": 16,
        "rows": 5
       }
      },
      "text/html": [
       "<div>\n",
       "<style scoped>\n",
       "    .dataframe tbody tr th:only-of-type {\n",
       "        vertical-align: middle;\n",
       "    }\n",
       "\n",
       "    .dataframe tbody tr th {\n",
       "        vertical-align: top;\n",
       "    }\n",
       "\n",
       "    .dataframe thead th {\n",
       "        text-align: right;\n",
       "    }\n",
       "</style>\n",
       "<table border=\"1\" class=\"dataframe\">\n",
       "  <thead>\n",
       "    <tr style=\"text-align: right;\">\n",
       "      <th></th>\n",
       "      <th>patient_id</th>\n",
       "      <th>age</th>\n",
       "      <th>gender</th>\n",
       "      <th>visit_date</th>\n",
       "      <th>specialty</th>\n",
       "      <th>diagnosis</th>\n",
       "      <th>procedure</th>\n",
       "      <th>doctor_id</th>\n",
       "      <th>hospital_id</th>\n",
       "      <th>city</th>\n",
       "      <th>country</th>\n",
       "      <th>visit_type</th>\n",
       "      <th>visit_duration_minutes</th>\n",
       "      <th>outcome</th>\n",
       "      <th>readmission_within_30_days</th>\n",
       "      <th>cost_usd</th>\n",
       "    </tr>\n",
       "  </thead>\n",
       "  <tbody>\n",
       "    <tr>\n",
       "      <th>0</th>\n",
       "      <td>bdd640fb-0667-4ad1-9c80-317fa3b1799d</td>\n",
       "      <td>92.0</td>\n",
       "      <td>M</td>\n",
       "      <td>2023-03-11</td>\n",
       "      <td>Pediatría</td>\n",
       "      <td>Sunt cum.</td>\n",
       "      <td>Consequatur.</td>\n",
       "      <td>d8473694-cda8-4947-88dd-38b5c72bcefe</td>\n",
       "      <td>0fd45397-be87-48cf-94b4-180186eac1d4</td>\n",
       "      <td>Santiago</td>\n",
       "      <td>Argentina</td>\n",
       "      <td>Consulta</td>\n",
       "      <td>486</td>\n",
       "      <td>Reingreso</td>\n",
       "      <td>0</td>\n",
       "      <td>3851.00</td>\n",
       "    </tr>\n",
       "    <tr>\n",
       "      <th>1</th>\n",
       "      <td>23b8c1e9-3924-46de-beb1-3b9046685257</td>\n",
       "      <td>82.0</td>\n",
       "      <td>M</td>\n",
       "      <td>2020-08-14</td>\n",
       "      <td>Dermatología</td>\n",
       "      <td>Temporibus dolor.</td>\n",
       "      <td>Qui eligendi.</td>\n",
       "      <td>9d7a5834-e676-46fb-bd68-9951582578e4</td>\n",
       "      <td>94fae0f0-5bb7-4234-b00e-ce3557f2026f</td>\n",
       "      <td>Bogotá</td>\n",
       "      <td>Argentina</td>\n",
       "      <td>Hospitalización</td>\n",
       "      <td>572</td>\n",
       "      <td>Fallecimiento</td>\n",
       "      <td>1</td>\n",
       "      <td>2959.96</td>\n",
       "    </tr>\n",
       "    <tr>\n",
       "      <th>2</th>\n",
       "      <td>bd9c66b3-ad3c-4d6d-9a3d-1fa7bc8960a9</td>\n",
       "      <td>4.0</td>\n",
       "      <td>M</td>\n",
       "      <td>2023-01-03</td>\n",
       "      <td>Cardiología</td>\n",
       "      <td>Porro optio facere.</td>\n",
       "      <td>Fugiat pariatur.</td>\n",
       "      <td>09c54acd-f0ad-4a23-a5e2-d34d414d62bd</td>\n",
       "      <td>2fdd830b-52c8-45f5-b383-230c17dd7c22</td>\n",
       "      <td>Ciudad de México</td>\n",
       "      <td>Chile</td>\n",
       "      <td>Emergencia</td>\n",
       "      <td>101</td>\n",
       "      <td>Fallecimiento</td>\n",
       "      <td>0</td>\n",
       "      <td>3632.33</td>\n",
       "    </tr>\n",
       "    <tr>\n",
       "      <th>3</th>\n",
       "      <td>972a8469-1641-4f82-8b9d-2434e465e150</td>\n",
       "      <td>96.0</td>\n",
       "      <td>F</td>\n",
       "      <td>2020-06-15</td>\n",
       "      <td>Cirugía</td>\n",
       "      <td>Necessitatibus tempora eum.</td>\n",
       "      <td>Eaque.</td>\n",
       "      <td>bf5f0e16-c161-488e-ae99-8ecf7fb825dc</td>\n",
       "      <td>3697c736-77c4-4cc4-a6ae-b696bc49d111</td>\n",
       "      <td>Santiago</td>\n",
       "      <td>Ecuador</td>\n",
       "      <td>Emergencia</td>\n",
       "      <td>589</td>\n",
       "      <td>Alta</td>\n",
       "      <td>0</td>\n",
       "      <td>85.57</td>\n",
       "    </tr>\n",
       "    <tr>\n",
       "      <th>4</th>\n",
       "      <td>17fc695a-07a0-4a6e-8822-e8f36c031199</td>\n",
       "      <td>61.0</td>\n",
       "      <td>M</td>\n",
       "      <td>2021-11-05</td>\n",
       "      <td>Dermatología</td>\n",
       "      <td>Quam in.</td>\n",
       "      <td>Cupiditate ullam.</td>\n",
       "      <td>d1a80cba-621f-478a-9576-d97aa95c27b4</td>\n",
       "      <td>a89ff296-918d-474f-a697-a6e17330e3ce</td>\n",
       "      <td>Lima</td>\n",
       "      <td>Chile</td>\n",
       "      <td>Consulta</td>\n",
       "      <td>8</td>\n",
       "      <td>Fallecimiento</td>\n",
       "      <td>0</td>\n",
       "      <td>2603.25</td>\n",
       "    </tr>\n",
       "  </tbody>\n",
       "</table>\n",
       "</div>"
      ],
      "text/plain": [
       "                             patient_id   age gender visit_date     specialty  \\\n",
       "0  bdd640fb-0667-4ad1-9c80-317fa3b1799d  92.0      M 2023-03-11     Pediatría   \n",
       "1  23b8c1e9-3924-46de-beb1-3b9046685257  82.0      M 2020-08-14  Dermatología   \n",
       "2  bd9c66b3-ad3c-4d6d-9a3d-1fa7bc8960a9   4.0      M 2023-01-03   Cardiología   \n",
       "3  972a8469-1641-4f82-8b9d-2434e465e150  96.0      F 2020-06-15       Cirugía   \n",
       "4  17fc695a-07a0-4a6e-8822-e8f36c031199  61.0      M 2021-11-05  Dermatología   \n",
       "\n",
       "                     diagnosis          procedure  \\\n",
       "0                    Sunt cum.       Consequatur.   \n",
       "1            Temporibus dolor.      Qui eligendi.   \n",
       "2          Porro optio facere.   Fugiat pariatur.   \n",
       "3  Necessitatibus tempora eum.             Eaque.   \n",
       "4                     Quam in.  Cupiditate ullam.   \n",
       "\n",
       "                              doctor_id                           hospital_id  \\\n",
       "0  d8473694-cda8-4947-88dd-38b5c72bcefe  0fd45397-be87-48cf-94b4-180186eac1d4   \n",
       "1  9d7a5834-e676-46fb-bd68-9951582578e4  94fae0f0-5bb7-4234-b00e-ce3557f2026f   \n",
       "2  09c54acd-f0ad-4a23-a5e2-d34d414d62bd  2fdd830b-52c8-45f5-b383-230c17dd7c22   \n",
       "3  bf5f0e16-c161-488e-ae99-8ecf7fb825dc  3697c736-77c4-4cc4-a6ae-b696bc49d111   \n",
       "4  d1a80cba-621f-478a-9576-d97aa95c27b4  a89ff296-918d-474f-a697-a6e17330e3ce   \n",
       "\n",
       "               city    country       visit_type  visit_duration_minutes  \\\n",
       "0          Santiago  Argentina         Consulta                     486   \n",
       "1            Bogotá  Argentina  Hospitalización                     572   \n",
       "2  Ciudad de México      Chile       Emergencia                     101   \n",
       "3          Santiago    Ecuador       Emergencia                     589   \n",
       "4              Lima      Chile         Consulta                       8   \n",
       "\n",
       "         outcome  readmission_within_30_days  cost_usd  \n",
       "0      Reingreso                           0   3851.00  \n",
       "1  Fallecimiento                           1   2959.96  \n",
       "2  Fallecimiento                           0   3632.33  \n",
       "3           Alta                           0     85.57  \n",
       "4  Fallecimiento                           0   2603.25  "
      ]
     },
     "execution_count": 9,
     "metadata": {},
     "output_type": "execute_result"
    }
   ],
   "source": [
    "df_cleaned.head()"
   ]
  },
  {
   "cell_type": "markdown",
   "id": "b0f1b332",
   "metadata": {},
   "source": [
    "Exportando el dataset limpio para extraer insights y exportar a postgreSQL"
   ]
  },
  {
   "cell_type": "code",
   "execution_count": 10,
   "id": "fc26b28b",
   "metadata": {},
   "outputs": [],
   "source": [
    "#Exporting df\n",
    "df_cleaned.to_csv(CLEAN_PATH, index=False)"
   ]
  },
  {
   "cell_type": "markdown",
   "id": "ad181f63",
   "metadata": {},
   "source": [
    "Parametros para conexion a PostgreSQL"
   ]
  },
  {
   "cell_type": "code",
   "execution_count": 12,
   "id": "91f47e5f",
   "metadata": {},
   "outputs": [],
   "source": [
    "from sqlalchemy import create_engine\n",
    "import pandas as pd \n",
    "\n",
    "username = 'postgres'\n",
    "password = 'testingpsql'\n",
    "host = 'localhost'      # or remote IP\n",
    "port = '5432'           # default PostgreSQL port\n",
    "database = 'testing'\n",
    "\n",
    "engine = create_engine(f'postgresql+psycopg2://{username}:{password}@{host}:{port}/{database}')\n"
   ]
  },
  {
   "cell_type": "markdown",
   "id": "6e30f9e3",
   "metadata": {},
   "source": [
    "Leyendo el CSV creado anteriormente (para validar que exporto correctamente)"
   ]
  },
  {
   "cell_type": "code",
   "execution_count": 14,
   "id": "38af14fd",
   "metadata": {},
   "outputs": [
    {
     "data": {
      "application/vnd.microsoft.datawrangler.viewer.v0+json": {
       "columns": [
        {
         "name": "index",
         "rawType": "int64",
         "type": "integer"
        },
        {
         "name": "patient_id",
         "rawType": "object",
         "type": "string"
        },
        {
         "name": "age",
         "rawType": "float64",
         "type": "float"
        },
        {
         "name": "gender",
         "rawType": "object",
         "type": "string"
        },
        {
         "name": "visit_date",
         "rawType": "object",
         "type": "string"
        },
        {
         "name": "specialty",
         "rawType": "object",
         "type": "string"
        },
        {
         "name": "diagnosis",
         "rawType": "object",
         "type": "string"
        },
        {
         "name": "procedure",
         "rawType": "object",
         "type": "string"
        },
        {
         "name": "doctor_id",
         "rawType": "object",
         "type": "string"
        },
        {
         "name": "hospital_id",
         "rawType": "object",
         "type": "string"
        },
        {
         "name": "city",
         "rawType": "object",
         "type": "string"
        },
        {
         "name": "country",
         "rawType": "object",
         "type": "string"
        },
        {
         "name": "visit_type",
         "rawType": "object",
         "type": "string"
        },
        {
         "name": "visit_duration_minutes",
         "rawType": "int64",
         "type": "integer"
        },
        {
         "name": "outcome",
         "rawType": "object",
         "type": "string"
        },
        {
         "name": "readmission_within_30_days",
         "rawType": "int64",
         "type": "integer"
        },
        {
         "name": "cost_usd",
         "rawType": "float64",
         "type": "float"
        }
       ],
       "conversionMethod": "pd.DataFrame",
       "ref": "6a63c77b-c4d8-42e6-96da-ce4d392d10a4",
       "rows": [
        [
         "0",
         "bdd640fb-0667-4ad1-9c80-317fa3b1799d",
         "92.0",
         "M",
         "2023-03-11",
         "Pediatría",
         "Sunt cum.",
         "Consequatur.",
         "d8473694-cda8-4947-88dd-38b5c72bcefe",
         "0fd45397-be87-48cf-94b4-180186eac1d4",
         "Santiago",
         "Argentina",
         "Consulta",
         "486",
         "Reingreso",
         "0",
         "3851.0"
        ],
        [
         "1",
         "23b8c1e9-3924-46de-beb1-3b9046685257",
         "82.0",
         "M",
         "2020-08-14",
         "Dermatología",
         "Temporibus dolor.",
         "Qui eligendi.",
         "9d7a5834-e676-46fb-bd68-9951582578e4",
         "94fae0f0-5bb7-4234-b00e-ce3557f2026f",
         "Bogotá",
         "Argentina",
         "Hospitalización",
         "572",
         "Fallecimiento",
         "1",
         "2959.96"
        ],
        [
         "2",
         "bd9c66b3-ad3c-4d6d-9a3d-1fa7bc8960a9",
         "4.0",
         "M",
         "2023-01-03",
         "Cardiología",
         "Porro optio facere.",
         "Fugiat pariatur.",
         "09c54acd-f0ad-4a23-a5e2-d34d414d62bd",
         "2fdd830b-52c8-45f5-b383-230c17dd7c22",
         "Ciudad de México",
         "Chile",
         "Emergencia",
         "101",
         "Fallecimiento",
         "0",
         "3632.33"
        ],
        [
         "3",
         "972a8469-1641-4f82-8b9d-2434e465e150",
         "96.0",
         "F",
         "2020-06-15",
         "Cirugía",
         "Necessitatibus tempora eum.",
         "Eaque.",
         "bf5f0e16-c161-488e-ae99-8ecf7fb825dc",
         "3697c736-77c4-4cc4-a6ae-b696bc49d111",
         "Santiago",
         "Ecuador",
         "Emergencia",
         "589",
         "Alta",
         "0",
         "85.57"
        ],
        [
         "4",
         "17fc695a-07a0-4a6e-8822-e8f36c031199",
         "61.0",
         "M",
         "2021-11-05",
         "Dermatología",
         "Quam in.",
         "Cupiditate ullam.",
         "d1a80cba-621f-478a-9576-d97aa95c27b4",
         "a89ff296-918d-474f-a697-a6e17330e3ce",
         "Lima",
         "Chile",
         "Consulta",
         "8",
         "Fallecimiento",
         "0",
         "2603.25"
        ]
       ],
       "shape": {
        "columns": 16,
        "rows": 5
       }
      },
      "text/html": [
       "<div>\n",
       "<style scoped>\n",
       "    .dataframe tbody tr th:only-of-type {\n",
       "        vertical-align: middle;\n",
       "    }\n",
       "\n",
       "    .dataframe tbody tr th {\n",
       "        vertical-align: top;\n",
       "    }\n",
       "\n",
       "    .dataframe thead th {\n",
       "        text-align: right;\n",
       "    }\n",
       "</style>\n",
       "<table border=\"1\" class=\"dataframe\">\n",
       "  <thead>\n",
       "    <tr style=\"text-align: right;\">\n",
       "      <th></th>\n",
       "      <th>patient_id</th>\n",
       "      <th>age</th>\n",
       "      <th>gender</th>\n",
       "      <th>visit_date</th>\n",
       "      <th>specialty</th>\n",
       "      <th>diagnosis</th>\n",
       "      <th>procedure</th>\n",
       "      <th>doctor_id</th>\n",
       "      <th>hospital_id</th>\n",
       "      <th>city</th>\n",
       "      <th>country</th>\n",
       "      <th>visit_type</th>\n",
       "      <th>visit_duration_minutes</th>\n",
       "      <th>outcome</th>\n",
       "      <th>readmission_within_30_days</th>\n",
       "      <th>cost_usd</th>\n",
       "    </tr>\n",
       "  </thead>\n",
       "  <tbody>\n",
       "    <tr>\n",
       "      <th>0</th>\n",
       "      <td>bdd640fb-0667-4ad1-9c80-317fa3b1799d</td>\n",
       "      <td>92.0</td>\n",
       "      <td>M</td>\n",
       "      <td>2023-03-11</td>\n",
       "      <td>Pediatría</td>\n",
       "      <td>Sunt cum.</td>\n",
       "      <td>Consequatur.</td>\n",
       "      <td>d8473694-cda8-4947-88dd-38b5c72bcefe</td>\n",
       "      <td>0fd45397-be87-48cf-94b4-180186eac1d4</td>\n",
       "      <td>Santiago</td>\n",
       "      <td>Argentina</td>\n",
       "      <td>Consulta</td>\n",
       "      <td>486</td>\n",
       "      <td>Reingreso</td>\n",
       "      <td>0</td>\n",
       "      <td>3851.00</td>\n",
       "    </tr>\n",
       "    <tr>\n",
       "      <th>1</th>\n",
       "      <td>23b8c1e9-3924-46de-beb1-3b9046685257</td>\n",
       "      <td>82.0</td>\n",
       "      <td>M</td>\n",
       "      <td>2020-08-14</td>\n",
       "      <td>Dermatología</td>\n",
       "      <td>Temporibus dolor.</td>\n",
       "      <td>Qui eligendi.</td>\n",
       "      <td>9d7a5834-e676-46fb-bd68-9951582578e4</td>\n",
       "      <td>94fae0f0-5bb7-4234-b00e-ce3557f2026f</td>\n",
       "      <td>Bogotá</td>\n",
       "      <td>Argentina</td>\n",
       "      <td>Hospitalización</td>\n",
       "      <td>572</td>\n",
       "      <td>Fallecimiento</td>\n",
       "      <td>1</td>\n",
       "      <td>2959.96</td>\n",
       "    </tr>\n",
       "    <tr>\n",
       "      <th>2</th>\n",
       "      <td>bd9c66b3-ad3c-4d6d-9a3d-1fa7bc8960a9</td>\n",
       "      <td>4.0</td>\n",
       "      <td>M</td>\n",
       "      <td>2023-01-03</td>\n",
       "      <td>Cardiología</td>\n",
       "      <td>Porro optio facere.</td>\n",
       "      <td>Fugiat pariatur.</td>\n",
       "      <td>09c54acd-f0ad-4a23-a5e2-d34d414d62bd</td>\n",
       "      <td>2fdd830b-52c8-45f5-b383-230c17dd7c22</td>\n",
       "      <td>Ciudad de México</td>\n",
       "      <td>Chile</td>\n",
       "      <td>Emergencia</td>\n",
       "      <td>101</td>\n",
       "      <td>Fallecimiento</td>\n",
       "      <td>0</td>\n",
       "      <td>3632.33</td>\n",
       "    </tr>\n",
       "    <tr>\n",
       "      <th>3</th>\n",
       "      <td>972a8469-1641-4f82-8b9d-2434e465e150</td>\n",
       "      <td>96.0</td>\n",
       "      <td>F</td>\n",
       "      <td>2020-06-15</td>\n",
       "      <td>Cirugía</td>\n",
       "      <td>Necessitatibus tempora eum.</td>\n",
       "      <td>Eaque.</td>\n",
       "      <td>bf5f0e16-c161-488e-ae99-8ecf7fb825dc</td>\n",
       "      <td>3697c736-77c4-4cc4-a6ae-b696bc49d111</td>\n",
       "      <td>Santiago</td>\n",
       "      <td>Ecuador</td>\n",
       "      <td>Emergencia</td>\n",
       "      <td>589</td>\n",
       "      <td>Alta</td>\n",
       "      <td>0</td>\n",
       "      <td>85.57</td>\n",
       "    </tr>\n",
       "    <tr>\n",
       "      <th>4</th>\n",
       "      <td>17fc695a-07a0-4a6e-8822-e8f36c031199</td>\n",
       "      <td>61.0</td>\n",
       "      <td>M</td>\n",
       "      <td>2021-11-05</td>\n",
       "      <td>Dermatología</td>\n",
       "      <td>Quam in.</td>\n",
       "      <td>Cupiditate ullam.</td>\n",
       "      <td>d1a80cba-621f-478a-9576-d97aa95c27b4</td>\n",
       "      <td>a89ff296-918d-474f-a697-a6e17330e3ce</td>\n",
       "      <td>Lima</td>\n",
       "      <td>Chile</td>\n",
       "      <td>Consulta</td>\n",
       "      <td>8</td>\n",
       "      <td>Fallecimiento</td>\n",
       "      <td>0</td>\n",
       "      <td>2603.25</td>\n",
       "    </tr>\n",
       "  </tbody>\n",
       "</table>\n",
       "</div>"
      ],
      "text/plain": [
       "                             patient_id   age gender  visit_date  \\\n",
       "0  bdd640fb-0667-4ad1-9c80-317fa3b1799d  92.0      M  2023-03-11   \n",
       "1  23b8c1e9-3924-46de-beb1-3b9046685257  82.0      M  2020-08-14   \n",
       "2  bd9c66b3-ad3c-4d6d-9a3d-1fa7bc8960a9   4.0      M  2023-01-03   \n",
       "3  972a8469-1641-4f82-8b9d-2434e465e150  96.0      F  2020-06-15   \n",
       "4  17fc695a-07a0-4a6e-8822-e8f36c031199  61.0      M  2021-11-05   \n",
       "\n",
       "      specialty                    diagnosis          procedure  \\\n",
       "0     Pediatría                    Sunt cum.       Consequatur.   \n",
       "1  Dermatología            Temporibus dolor.      Qui eligendi.   \n",
       "2   Cardiología          Porro optio facere.   Fugiat pariatur.   \n",
       "3       Cirugía  Necessitatibus tempora eum.             Eaque.   \n",
       "4  Dermatología                     Quam in.  Cupiditate ullam.   \n",
       "\n",
       "                              doctor_id                           hospital_id  \\\n",
       "0  d8473694-cda8-4947-88dd-38b5c72bcefe  0fd45397-be87-48cf-94b4-180186eac1d4   \n",
       "1  9d7a5834-e676-46fb-bd68-9951582578e4  94fae0f0-5bb7-4234-b00e-ce3557f2026f   \n",
       "2  09c54acd-f0ad-4a23-a5e2-d34d414d62bd  2fdd830b-52c8-45f5-b383-230c17dd7c22   \n",
       "3  bf5f0e16-c161-488e-ae99-8ecf7fb825dc  3697c736-77c4-4cc4-a6ae-b696bc49d111   \n",
       "4  d1a80cba-621f-478a-9576-d97aa95c27b4  a89ff296-918d-474f-a697-a6e17330e3ce   \n",
       "\n",
       "               city    country       visit_type  visit_duration_minutes  \\\n",
       "0          Santiago  Argentina         Consulta                     486   \n",
       "1            Bogotá  Argentina  Hospitalización                     572   \n",
       "2  Ciudad de México      Chile       Emergencia                     101   \n",
       "3          Santiago    Ecuador       Emergencia                     589   \n",
       "4              Lima      Chile         Consulta                       8   \n",
       "\n",
       "         outcome  readmission_within_30_days  cost_usd  \n",
       "0      Reingreso                           0   3851.00  \n",
       "1  Fallecimiento                           1   2959.96  \n",
       "2  Fallecimiento                           0   3632.33  \n",
       "3           Alta                           0     85.57  \n",
       "4  Fallecimiento                           0   2603.25  "
      ]
     },
     "execution_count": 14,
     "metadata": {},
     "output_type": "execute_result"
    }
   ],
   "source": [
    "df1 = pd.read_csv(CLEAN_PATH)\n",
    "df1.head()"
   ]
  },
  {
   "cell_type": "markdown",
   "id": "94abca95",
   "metadata": {},
   "source": [
    "Exportando la data del CSV a postgres"
   ]
  },
  {
   "cell_type": "code",
   "execution_count": 15,
   "id": "dc6e3801",
   "metadata": {},
   "outputs": [
    {
     "data": {
      "text/plain": [
       "1000"
      ]
     },
     "execution_count": 15,
     "metadata": {},
     "output_type": "execute_result"
    }
   ],
   "source": [
    "df1.to_sql(\n",
    "    name='atenciones_medicas',\n",
    "    con=engine,\n",
    "    schema='public', \n",
    "    if_exists='replace',       \n",
    "    index=False              \n",
    ")\n"
   ]
  },
  {
   "cell_type": "code",
   "execution_count": 16,
   "id": "389142fa",
   "metadata": {},
   "outputs": [
    {
     "name": "stdout",
     "output_type": "stream",
     "text": [
      "                             patient_id   age gender  visit_date  \\\n",
      "0  bdd640fb-0667-4ad1-9c80-317fa3b1799d  92.0      M  2023-03-11   \n",
      "1  23b8c1e9-3924-46de-beb1-3b9046685257  82.0      M  2020-08-14   \n",
      "2  bd9c66b3-ad3c-4d6d-9a3d-1fa7bc8960a9   4.0      M  2023-01-03   \n",
      "3  972a8469-1641-4f82-8b9d-2434e465e150  96.0      F  2020-06-15   \n",
      "4  17fc695a-07a0-4a6e-8822-e8f36c031199  61.0      M  2021-11-05   \n",
      "\n",
      "      specialty                    diagnosis          procedure  \\\n",
      "0     Pediatría                    Sunt cum.       Consequatur.   \n",
      "1  Dermatología            Temporibus dolor.      Qui eligendi.   \n",
      "2    Cardiolgia          Porro optio facere.   Fugiat pariatur.   \n",
      "3       Cirujia  Necessitatibus tempora eum.             Eaque.   \n",
      "4  Dermatología                     Quam in.  Cupiditate ullam.   \n",
      "\n",
      "                              doctor_id                           hospital_id  \\\n",
      "0  d8473694-cda8-4947-88dd-38b5c72bcefe  0fd45397-be87-48cf-94b4-180186eac1d4   \n",
      "1  9d7a5834-e676-46fb-bd68-9951582578e4  94fae0f0-5bb7-4234-b00e-ce3557f2026f   \n",
      "2  09c54acd-f0ad-4a23-a5e2-d34d414d62bd  2fdd830b-52c8-45f5-b383-230c17dd7c22   \n",
      "3  bf5f0e16-c161-488e-ae99-8ecf7fb825dc  3697c736-77c4-4cc4-a6ae-b696bc49d111   \n",
      "4  d1a80cba-621f-478a-9576-d97aa95c27b4  a89ff296-918d-474f-a697-a6e17330e3ce   \n",
      "\n",
      "               city    country       visit_type  visit_duration_minutes  \\\n",
      "0          Santiago  Argentina         Consulta                     486   \n",
      "1            Bogotá  Argentina  Hospitalización                     572   \n",
      "2  Ciudad de México      Chile       Emergencia                     101   \n",
      "3          Santiago    Ecuador       Emergencia                     589   \n",
      "4              Lima      Chile         Consulta                       8   \n",
      "\n",
      "         outcome  readmission_within_30_days  cost_usd  old_age  \n",
      "0      Reingreso                           0   3851.00       92  \n",
      "1  Fallecimiento                           1   2959.96       82  \n",
      "2  Fallecimiento                           0   3632.33        4  \n",
      "3           Alta                           0     85.57       96  \n",
      "4  Fallecimiento                           0   2603.25       61  \n"
     ]
    }
   ],
   "source": [
    "#Revisando que la data fue cargada\n",
    "query = \"SELECT * FROM public.atenciones_medicas LIMIT 100;\"\n",
    "\n",
    "# Execute query and load into DataFrame\n",
    "df2 = pd.read_sql(query, con=engine)\n",
    "\n",
    "# Preview the result\n",
    "print(df.head())"
   ]
  }
 ],
 "metadata": {
  "kernelspec": {
   "display_name": "Python 3",
   "language": "python",
   "name": "python3"
  },
  "language_info": {
   "codemirror_mode": {
    "name": "ipython",
    "version": 3
   },
   "file_extension": ".py",
   "mimetype": "text/x-python",
   "name": "python",
   "nbconvert_exporter": "python",
   "pygments_lexer": "ipython3",
   "version": "3.12.0"
  }
 },
 "nbformat": 4,
 "nbformat_minor": 5
}
