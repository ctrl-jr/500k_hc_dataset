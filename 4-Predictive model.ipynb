{
 "cells": [
  {
   "cell_type": "markdown",
   "id": "7857511d",
   "metadata": {},
   "source": [
    "Modelo predictivo para readmision de paciente"
   ]
  },
  {
   "cell_type": "code",
   "execution_count": 1,
   "id": "b2a00775",
   "metadata": {},
   "outputs": [],
   "source": [
    "from sklearn.model_selection import train_test_split\n",
    "from sklearn.preprocessing import LabelEncoder\n",
    "from sklearn.metrics import accuracy_score, precision_score, recall_score, roc_auc_score, classification_report\n",
    "from sklearn.linear_model import LogisticRegression\n",
    "from sklearn.tree import DecisionTreeClassifier\n",
    "from sklearn.ensemble import RandomForestClassifier\n",
    "import pandas as pd\n",
    "from config import CLEAN_PATH\n",
    "\n",
    "# Features to use\n",
    "features = ['age', 'gender', 'specialty', 'visit_type', 'visit_duration_minutes', 'cost_usd']\n",
    "target = 'readmission_within_30_days'\n",
    "\n",
    "df = pd.read_csv(CLEAN_PATH)\n",
    "# Create a copy of cleaned dataset\n",
    "df_model = df[features + [target]].copy()\n",
    "\n"
   ]
  },
  {
   "cell_type": "code",
   "execution_count": null,
   "id": "d5e71570",
   "metadata": {},
   "outputs": [
    {
     "name": "stdout",
     "output_type": "stream",
     "text": [
      "readmission_within_30_days\n",
      "0    0.849438\n",
      "1    0.150562\n",
      "Name: proportion, dtype: float64\n"
     ]
    }
   ],
   "source": [
    "# Encode categorical variables\n",
    "le_gender = LabelEncoder()\n",
    "le_specialty = LabelEncoder()\n",
    "le_visit_type = LabelEncoder()\n",
    "\n",
    "df_model['gender'] = le_gender.fit_transform(df_model['gender'])\n",
    "df_model['specialty'] = le_specialty.fit_transform(df_model['specialty'])\n",
    "df_model['visit_type'] = le_visit_type.fit_transform(df_model['visit_type'])\n",
    "\n",
    "# Define X and y\n",
    "X = df_model[features]\n",
    "y = df_model[target]\n",
    "\n",
    "# Split data into train and test sets (70/30)\n",
    "X_train, X_test, y_train, y_test = train_test_split(X, y, test_size=0.3, random_state=42, stratify=y)\n",
    "\n",
    "LogisticRegression(class_weight='balanced', max_iter=1000)\n",
    "DecisionTreeClassifier(class_weight='balanced')\n",
    "RandomForestClassifier(class_weight='balanced')\n",
    "\n",
    "print(y.value_counts(normalize=True))"
   ]
  },
  {
   "cell_type": "code",
   "execution_count": 3,
   "id": "b5b3afa8",
   "metadata": {},
   "outputs": [
    {
     "name": "stderr",
     "output_type": "stream",
     "text": [
      "c:\\Users\\jrjim\\AppData\\Local\\Programs\\Python\\Python312\\Lib\\site-packages\\sklearn\\metrics\\_classification.py:1565: UndefinedMetricWarning: Precision is ill-defined and being set to 0.0 due to no predicted samples. Use `zero_division` parameter to control this behavior.\n",
      "  _warn_prf(average, modifier, f\"{metric.capitalize()} is\", len(result))\n"
     ]
    },
    {
     "data": {
      "application/vnd.microsoft.datawrangler.viewer.v0+json": {
       "columns": [
        {
         "name": "index",
         "rawType": "object",
         "type": "string"
        },
        {
         "name": "Accuracy",
         "rawType": "float64",
         "type": "float"
        },
        {
         "name": "Precision",
         "rawType": "float64",
         "type": "float"
        },
        {
         "name": "Recall",
         "rawType": "float64",
         "type": "float"
        },
        {
         "name": "ROC-AUC",
         "rawType": "float64",
         "type": "float"
        }
       ],
       "conversionMethod": "pd.DataFrame",
       "ref": "856f78a2-9332-4cc3-9048-7ba0bdd0ed41",
       "rows": [
        [
         "Logistic Regression",
         "0.84944",
         "0.0",
         "0.0",
         "0.5027293270913069"
        ],
        [
         "Decision Tree",
         "0.7287066666666666",
         "0.14919417325275067",
         "0.1705189514700673",
         "0.49908113078620464"
        ],
        [
         "Random Forest",
         "0.84716",
         "0.1724137931034483",
         "0.003985122210414453",
         "0.4938893826678357"
        ]
       ],
       "shape": {
        "columns": 4,
        "rows": 3
       }
      },
      "text/html": [
       "<div>\n",
       "<style scoped>\n",
       "    .dataframe tbody tr th:only-of-type {\n",
       "        vertical-align: middle;\n",
       "    }\n",
       "\n",
       "    .dataframe tbody tr th {\n",
       "        vertical-align: top;\n",
       "    }\n",
       "\n",
       "    .dataframe thead th {\n",
       "        text-align: right;\n",
       "    }\n",
       "</style>\n",
       "<table border=\"1\" class=\"dataframe\">\n",
       "  <thead>\n",
       "    <tr style=\"text-align: right;\">\n",
       "      <th></th>\n",
       "      <th>Accuracy</th>\n",
       "      <th>Precision</th>\n",
       "      <th>Recall</th>\n",
       "      <th>ROC-AUC</th>\n",
       "    </tr>\n",
       "  </thead>\n",
       "  <tbody>\n",
       "    <tr>\n",
       "      <th>Logistic Regression</th>\n",
       "      <td>0.849440</td>\n",
       "      <td>0.000000</td>\n",
       "      <td>0.000000</td>\n",
       "      <td>0.502729</td>\n",
       "    </tr>\n",
       "    <tr>\n",
       "      <th>Decision Tree</th>\n",
       "      <td>0.728707</td>\n",
       "      <td>0.149194</td>\n",
       "      <td>0.170519</td>\n",
       "      <td>0.499081</td>\n",
       "    </tr>\n",
       "    <tr>\n",
       "      <th>Random Forest</th>\n",
       "      <td>0.847160</td>\n",
       "      <td>0.172414</td>\n",
       "      <td>0.003985</td>\n",
       "      <td>0.493889</td>\n",
       "    </tr>\n",
       "  </tbody>\n",
       "</table>\n",
       "</div>"
      ],
      "text/plain": [
       "                     Accuracy  Precision    Recall   ROC-AUC\n",
       "Logistic Regression  0.849440   0.000000  0.000000  0.502729\n",
       "Decision Tree        0.728707   0.149194  0.170519  0.499081\n",
       "Random Forest        0.847160   0.172414  0.003985  0.493889"
      ]
     },
     "execution_count": 3,
     "metadata": {},
     "output_type": "execute_result"
    }
   ],
   "source": [
    "# Fit models\n",
    "models = {\n",
    "    'Logistic Regression': LogisticRegression(max_iter=1000),\n",
    "    'Decision Tree': DecisionTreeClassifier(random_state=42),\n",
    "    'Random Forest': RandomForestClassifier(random_state=42)\n",
    "}\n",
    "\n",
    "results = {}\n",
    "\n",
    "for name, model in models.items():\n",
    "    model.fit(X_train, y_train)\n",
    "    y_pred = model.predict(X_test)\n",
    "    y_prob = model.predict_proba(X_test)[:, 1]\n",
    "    \n",
    "    results[name] = {\n",
    "        'Accuracy': accuracy_score(y_test, y_pred),\n",
    "        'Precision': precision_score(y_test, y_pred),\n",
    "        'Recall': recall_score(y_test, y_pred),\n",
    "        'ROC-AUC': roc_auc_score(y_test, y_prob)\n",
    "    }\n",
    "\n",
    "results_df = pd.DataFrame(results).T\n",
    "results_df.sort_values(by=\"ROC-AUC\", ascending=False)\n"
   ]
  }
 ],
 "metadata": {
  "kernelspec": {
   "display_name": "Python 3",
   "language": "python",
   "name": "python3"
  },
  "language_info": {
   "codemirror_mode": {
    "name": "ipython",
    "version": 3
   },
   "file_extension": ".py",
   "mimetype": "text/x-python",
   "name": "python",
   "nbconvert_exporter": "python",
   "pygments_lexer": "ipython3",
   "version": "3.12.0"
  }
 },
 "nbformat": 4,
 "nbformat_minor": 5
}
