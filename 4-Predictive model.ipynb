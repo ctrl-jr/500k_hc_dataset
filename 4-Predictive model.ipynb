{
 "cells": [
  {
   "cell_type": "markdown",
   "id": "7857511d",
   "metadata": {},
   "source": [
    "Modelo predictivo para readmision de paciente"
   ]
  },
  {
   "cell_type": "code",
   "execution_count": null,
   "id": "b2a00775",
   "metadata": {},
   "outputs": [],
   "source": [
    "from sklearn.model_selection import train_test_split\n",
    "from sklearn.preprocessing import LabelEncoder\n",
    "from sklearn.metrics import accuracy_score, precision_score, recall_score, roc_auc_score, classification_report\n",
    "from sklearn.linear_model import LogisticRegression\n",
    "from sklearn.tree import DecisionTreeClassifier\n",
    "from sklearn.ensemble import RandomForestClassifier\n",
    "import pandas as pd\n",
    "from config import CLEAN_PATH\n",
    "\n",
    "# Features to use\n",
    "features = ['age', 'gender', 'specialty', 'visit_type', 'visit_duration_minutes', 'cost_usd']\n",
    "target = 'readmission_within_30_days'\n",
    "\n",
    "df = pd.read_csv(CLEAN_PATH)\n",
    "# Create a copy of cleaned dataset\n",
    "df_model = df[features + [target]].copy()\n",
    "\n"
   ]
  },
  {
   "cell_type": "code",
   "execution_count": 5,
   "id": "d5e71570",
   "metadata": {},
   "outputs": [
    {
     "name": "stdout",
     "output_type": "stream",
     "text": [
      "readmission_within_30_days\n",
      "0    0.849534\n",
      "1    0.150466\n",
      "Name: proportion, dtype: float64\n"
     ]
    }
   ],
   "source": [
    "# Encode categorical variables\n",
    "le_gender = LabelEncoder()\n",
    "le_specialty = LabelEncoder()\n",
    "le_visit_type = LabelEncoder()\n",
    "\n",
    "df_model['gender'] = le_gender.fit_transform(df_model['gender'])\n",
    "df_model['specialty'] = le_specialty.fit_transform(df_model['specialty'])\n",
    "df_model['visit_type'] = le_visit_type.fit_transform(df_model['visit_type'])\n",
    "\n",
    "# Define X and y\n",
    "X = df_model[features]\n",
    "y = df_model[target]\n",
    "\n",
    "# Split data into train and test sets (70/30)\n",
    "X_train, X_test, y_train, y_test = train_test_split(X, y, test_size=0.3, random_state=42, stratify=y)\n",
    "\n",
    "LogisticRegression(class_weight='balanced')\n",
    "DecisionTreeClassifier(class_weight='balanced')\n",
    "RandomForestClassifier(class_weight='balanced')\n",
    "\n",
    "print(y.value_counts(normalize=True))"
   ]
  },
  {
   "cell_type": "code",
   "execution_count": 6,
   "id": "b5b3afa8",
   "metadata": {},
   "outputs": 
    {
     "data": {
      "text/html": [
       "<div>\n",
       "<style scoped>\n",
       "    .dataframe tbody tr th:only-of-type {\n",
       "        vertical-align: middle;\n",
       "    }\n",
       "\n",
       "    .dataframe tbody tr th {\n",
       "        vertical-align: top;\n",
       "    }\n",
       "\n",
       "    .dataframe thead th {\n",
       "        text-align: right;\n",
       "    }\n",
       "</style>\n",
       "<table border=\"1\" class=\"dataframe\">\n",
       "  <thead>\n",
       "    <tr style=\"text-align: right;\">\n",
       "      <th></th>\n",
       "      <th>Accuracy</th>\n",
       "      <th>Precision</th>\n",
       "      <th>Recall</th>\n",
       "      <th>ROC-AUC</th>\n",
       "    </tr>\n",
       "  </thead>\n",
       "  <tbody>\n",
       "    <tr>\n",
       "      <th>Decision Tree</th>\n",
       "      <td>0.729644</td>\n",
       "      <td>0.151051</td>\n",
       "      <td>0.172453</td>\n",
       "      <td>0.500392</td>\n",
       "    </tr>\n",
       "    <tr>\n",
       "      <th>Random Forest</th>\n",
       "      <td>0.847064</td>\n",
       "      <td>0.166667</td>\n",
       "      <td>0.004102</td>\n",
       "      <td>0.499145</td>\n",
       "    </tr>\n",
       "    <tr>\n",
       "      <th>Logistic Regression</th>\n",
       "      <td>0.849533</td>\n",
       "      <td>0.000000</td>\n",
       "      <td>0.000000</td>\n",
       "      <td>0.497179</td>\n",
       "    </tr>\n",
       "  </tbody>\n",
       "</table>\n",
       "</div>"
      ],
      "text/plain": [
       "                     Accuracy  Precision    Recall   ROC-AUC\n",
       "Decision Tree        0.729644   0.151051  0.172453  0.500392\n",
       "Random Forest        0.847064   0.166667  0.004102  0.499145\n",
       "Logistic Regression  0.849533   0.000000  0.000000  0.497179"
      ]
     },
     "execution_count": 6,
     "metadata": {},
     "output_type": "execute_result"
    }
   ],
   "source": [
    "# Fit models\n",
    "models = {\n",
    "    'Logistic Regression': LogisticRegression(max_iter=1000),\n",
    "    'Decision Tree': DecisionTreeClassifier(random_state=42),\n",
    "    'Random Forest': RandomForestClassifier(random_state=42)\n",
    "}\n",
    "\n",
    "results = {}\n",
    "\n",
    "for name, model in models.items():\n",
    "    model.fit(X_train, y_train)\n",
    "    y_pred = model.predict(X_test)\n",
    "    y_prob = model.predict_proba(X_test)[:, 1]\n",
    "    \n",
    "    results[name] = {\n",
    "        'Accuracy': accuracy_score(y_test, y_pred),\n",
    "        'Precision': precision_score(y_test, y_pred),\n",
    "        'Recall': recall_score(y_test, y_pred),\n",
    "        'ROC-AUC': roc_auc_score(y_test, y_prob)\n",
    "    }\n",
    "\n",
    "results_df = pd.DataFrame(results).T\n",
    "results_df.sort_values(by=\"ROC-AUC\", ascending=False)\n"
   ]
  }
 ],
 "metadata": {
  "kernelspec": {
   "display_name": "Python 3",
   "language": "python",
   "name": "python3"
  },
  "language_info": {
   "codemirror_mode": {
    "name": "ipython",
    "version": 3
   },
   "file_extension": ".py",
   "mimetype": "text/x-python",
   "name": "python",
   "nbconvert_exporter": "python",
   "pygments_lexer": "ipython3",
   "version": "3.13.3"
  }
 },
 "nbformat": 4,
 "nbformat_minor": 5
}
